{
 "cells": [
  {
   "cell_type": "code",
   "execution_count": 1,
   "metadata": {},
   "outputs": [],
   "source": [
    "import GA"
   ]
  },
  {
   "cell_type": "code",
   "execution_count": 2,
   "metadata": {},
   "outputs": [],
   "source": [
    "data_str = 'dataset.txt'\n",
    "population_size = 20\n",
    "generation_number = 50\n",
    "crossover_rate = 0.8\n",
    "mutation_rate = 0.05"
   ]
  },
  {
   "cell_type": "code",
   "execution_count": 3,
   "metadata": {},
   "outputs": [
    {
     "name": "stdout",
     "output_type": "stream",
     "text": [
      "Initialized GA\n"
     ]
    }
   ],
   "source": [
    "myGA = GA.GA()"
   ]
  },
  {
   "cell_type": "code",
   "execution_count": 4,
   "metadata": {},
   "outputs": [
    {
     "name": "stdout",
     "output_type": "stream",
     "text": [
      "started GA with population_size: 20, generation number: 50, crossover rate: 0.8, mutation rate: 0.05\n",
      "Data set shape: (1994, 102)\n",
      "initiliazed population with shape: (20, 101)\n"
     ]
    },
    {
     "name": "stdout",
     "output_type": "stream",
     "text": [
      "[(0.056588824439583026, 5), (0.05807360107146296, 19), (0.11251135483917796, 2), (0.12289990195960106, 13), (0.1257659248595462, 3), (0.12652246147396623, 7), (0.12959114094745325, 16), (0.13057285750752617, 14), (0.14284665868532506, 17), (0.1469928010099148, 6), (0.1528199157567931, 10), (0.17410551816440567, 0), (0.18849290858326723, 9), (0.20199491547678275, 12), (0.20374646914765432, 1), (0.20691257033824167, 4), (0.20722117536489026, 15), (0.2263319869138638, 18), (0.22693560642987767, 11), (0.22839015074410438, 8)]\n",
      "selected parents: [[1 0 0 1 1 0 1 1 1 0 1 0 0 0 1 1 1 0 1 1 1 1 0 0 1 1 1 0 0 0 0 0 1 1 1 0\n",
      "  1 1 1 0 1 0 1 0 1 0 1 1 1 0 1 1 1 0 1 1 0 0 1 0 0 1 1 0 0 1 1 0 1 1 0 1\n",
      "  1 1 1 1 0 0 1 0 0 1 1 0 1 1 0 1 1 1 1 1 0 1 1 1 0 1 0 0 0]\n",
      " [1 0 0 0 1 1 0 1 1 1 0 1 0 0 0 1 1 1 1 1 0 0 0 0 0 0 0 0 1 0 0 1 0 0 0 0\n",
      "  0 0 1 1 0 0 1 1 0 0 0 1 0 0 1 0 0 0 1 0 0 0 1 0 0 0 1 0 0 1 0 0 1 0 0 1\n",
      "  1 1 0 0 0 0 1 1 1 0 0 1 0 0 0 0 0 1 1 0 1 1 0 0 0 1 0 0 0]]\n",
      "generated offspring: [[1 0 0 1 1 0 1 1 1 0 1 0 0 0 1 1 1 0 1 1 1 1 0 0 1 1 1 0 0 0 0 0 1 1 1 0\n",
      "  1 1 1 0 1 0 1 0 1 0 1 1 1 0 1 1 1 0 1 1 0 0 1 0 0 1 1 0 0 1 1 0 1 1 0 1\n",
      "  1 1 1 1 0 0 1 0 0 1 1 0 1 1 0 1 1 1 1 1 0 1 1 1 0 1 0 0 0]\n",
      " [1 0 0 0 1 1 0 1 1 1 0 1 0 0 0 1 1 1 1 1 0 0 0 0 0 0 0 0 1 0 0 1 0 0 0 0\n",
      "  0 0 1 1 0 0 1 1 0 0 0 1 0 0 1 0 0 0 1 0 0 0 1 0 0 0 1 0 0 1 0 0 1 0 0 1\n",
      "  1 1 0 0 0 0 1 1 1 0 0 1 0 0 0 0 0 1 1 0 1 1 0 0 0 1 0 0 0]]\n",
      "mutated offspring: [[1 0 0 1 1 0 1 1 1 0 1 0 0 0 1 1 1 0 0 1 1 1 0 0 1 1 1 0 0 0 0 0 1 0 1 0\n",
      "  1 1 1 0 1 0 0 0 1 0 1 0 1 0 1 1 1 0 1 1 0 0 1 0 0 1 1 0 0 1 1 0 1 1 0 1\n",
      "  1 1 1 1 0 0 1 0 0 1 1 0 1 1 0 1 1 1 1 1 0 1 1 1 0 1 0 0 0]\n",
      " [1 0 0 0 1 1 0 1 1 1 0 1 1 0 0 1 1 1 1 0 1 0 0 0 0 0 1 0 1 0 0 1 0 0 0 0\n",
      "  0 0 1 1 0 0 1 1 0 0 0 1 0 0 1 0 0 0 1 1 0 0 1 0 0 0 1 0 0 1 0 0 1 0 0 1\n",
      "  1 1 0 0 0 0 1 1 1 0 0 1 0 0 0 0 0 1 1 0 1 1 0 0 0 1 0 0 0]]\n"
     ]
    }
   ],
   "source": [
    "myGA.run(generation_number, population_size, crossover_rate, mutation_rate, data_str)"
   ]
  },
  {
   "cell_type": "code",
   "execution_count": null,
   "metadata": {},
   "outputs": [],
   "source": []
  }
 ],
 "metadata": {
  "kernelspec": {
   "display_name": "Python 3",
   "language": "python",
   "name": "python3"
  },
  "language_info": {
   "codemirror_mode": {
    "name": "ipython",
    "version": 3
   },
   "file_extension": ".py",
   "mimetype": "text/x-python",
   "name": "python",
   "nbconvert_exporter": "python",
   "pygments_lexer": "ipython3",
   "version": "3.10.12"
  }
 },
 "nbformat": 4,
 "nbformat_minor": 2
}

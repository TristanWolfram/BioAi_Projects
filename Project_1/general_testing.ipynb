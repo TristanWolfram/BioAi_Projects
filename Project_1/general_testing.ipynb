{
 "cells": [
  {
   "cell_type": "code",
   "execution_count": 2,
   "metadata": {},
   "outputs": [],
   "source": [
    "import numpy as np\n",
    "import pandas as pd\n",
    "import LinReg"
   ]
  },
  {
   "cell_type": "code",
   "execution_count": 3,
   "metadata": {},
   "outputs": [],
   "source": [
    "myRNG = np.random.default_rng()\n",
    "regressor = LinReg.LinReg()\n",
    "\n",
    "def generate_initial_population(population_size, num_features):\n",
    "    return myRNG.integers(0, 1, size=(population_size, num_features), endpoint=True)\n",
    "\n",
    "def greate_fitness_scores(data, population):\n",
    "    fitness_scores = []\n",
    "    for i in range(population.shape[0]):\n",
    "        X = regressor.get_columns(data.values, population[i])\n",
    "        fitness = regressor.get_fitness(X[:,:-1], X[:,-1])\n",
    "        fitness_scores.append((fitness, i))\n",
    "    return fitness_scores\n",
    "\n",
    "def parent_selection(data, population, num_parents):\n",
    "    fitness_scores = greate_fitness_scores(data, population)\n",
    "    fitness_scores.sort()\n",
    "    print(fitness_scores)\n",
    "    selected_parents = fitness_scores[:num_parents]\n",
    "    selected_parents = [population[i] for fitness, i in selected_parents]\n",
    "    return np.array(selected_parents)"
   ]
  },
  {
   "cell_type": "code",
   "execution_count": 4,
   "metadata": {},
   "outputs": [],
   "source": [
    "data = pd.read_csv('dataset.txt', header=None)\n",
    "num_features = data.shape[1] \n",
    "population_size = 20\n",
    "generation_number = 50\n",
    "crossover_rate = 0.8\n",
    "\n",
    "\n",
    "mutation_rate = 0.1"
   ]
  },
  {
   "cell_type": "code",
   "execution_count": 5,
   "metadata": {},
   "outputs": [
    {
     "data": {
      "text/plain": [
       "(20, 102)"
      ]
     },
     "execution_count": 5,
     "metadata": {},
     "output_type": "execute_result"
    }
   ],
   "source": [
    "initial_pop = generate_initial_population(population_size, num_features)\n",
    "initial_pop.shape"
   ]
  },
  {
   "cell_type": "code",
   "execution_count": 6,
   "metadata": {},
   "outputs": [
    {
     "data": {
      "text/plain": [
       "array([[0, 1, 0, ..., 1, 1, 0],\n",
       "       [1, 1, 0, ..., 0, 0, 0],\n",
       "       [1, 0, 1, ..., 1, 1, 0],\n",
       "       ...,\n",
       "       [1, 1, 1, ..., 1, 1, 0],\n",
       "       [0, 0, 0, ..., 1, 1, 1],\n",
       "       [1, 0, 0, ..., 1, 1, 0]])"
      ]
     },
     "execution_count": 6,
     "metadata": {},
     "output_type": "execute_result"
    }
   ],
   "source": [
    "initial_pop"
   ]
  },
  {
   "cell_type": "code",
   "execution_count": 7,
   "metadata": {},
   "outputs": [
    {
     "name": "stdout",
     "output_type": "stream",
     "text": [
      "[(0.06487976679667405, 16), (0.07909784701283304, 7), (0.08620099350711309, 4), (0.1097077108935049, 1), (0.1333763683937697, 3), (0.13585193156296563, 10), (0.13706345274032256, 5), (0.14029583941771845, 14), (0.1433401866086899, 15), (0.14575354845207508, 9), (0.14830777356542713, 6), (0.14853369974784247, 18), (0.15428112488372472, 13), (0.18443714145421317, 2), (0.18944891589724716, 8), (0.19296806973135142, 0), (0.19313164704919136, 17), (0.1975985461251567, 12), (0.21324160267153974, 19), (0.21766408209155855, 11)]\n"
     ]
    }
   ],
   "source": [
    "num_parents = 5\n",
    "parents = parent_selection(data, initial_pop, num_parents)"
   ]
  },
  {
   "cell_type": "code",
   "execution_count": 8,
   "metadata": {},
   "outputs": [
    {
     "data": {
      "text/plain": [
       "0.42113121355602945"
      ]
     },
     "execution_count": 8,
     "metadata": {},
     "output_type": "execute_result"
    }
   ],
   "source": [
    "myRNG.random()"
   ]
  },
  {
   "cell_type": "code",
   "execution_count": 9,
   "metadata": {},
   "outputs": [
    {
     "data": {
      "text/plain": [
       "0.26845150290695796"
      ]
     },
     "execution_count": 9,
     "metadata": {},
     "output_type": "execute_result"
    }
   ],
   "source": [
    "np.random.rand()"
   ]
  },
  {
   "cell_type": "code",
   "execution_count": 10,
   "metadata": {},
   "outputs": [],
   "source": [
    "def mutate_gene(bit_string, mutation_rate):\n",
    "    for i in range(len(bit_string)):\n",
    "        if myRNG.random() < mutation_rate:\n",
    "            bit_string[i] = 1 - bit_string[i]\n",
    "\n",
    "    return bit_string"
   ]
  },
  {
   "cell_type": "code",
   "execution_count": 11,
   "metadata": {},
   "outputs": [],
   "source": [
    "def generate_offspring(parent1, parent2, crossover_rate):\n",
    "    if myRNG.random() < crossover_rate:\n",
    "        crossover_point = myRNG.integers(1, len(parent1))\n",
    "        print(crossover_point)\n",
    "        offspring1 = np.concatenate([parent1[:crossover_point], parent2[crossover_point:]])\n",
    "        offspring2 = np.concatenate([parent2[:crossover_point], parent1[crossover_point:]])\n",
    "        return offspring1, offspring2\n",
    "    else:\n",
    "        return parent1, parent2"
   ]
  },
  {
   "cell_type": "code",
   "execution_count": 12,
   "metadata": {},
   "outputs": [
    {
     "name": "stdout",
     "output_type": "stream",
     "text": [
      "2\n"
     ]
    },
    {
     "data": {
      "text/plain": [
       "(array([1, 1, 1, 0, 1]), array([1, 0, 0, 0, 0]))"
      ]
     },
     "execution_count": 12,
     "metadata": {},
     "output_type": "execute_result"
    }
   ],
   "source": [
    "a = np.array([1, 1, 0, 0, 0])\n",
    "b = np.array([1, 0, 1, 0, 1])\n",
    "\n",
    "generate_offspring(a, b, 0.8)"
   ]
  },
  {
   "cell_type": "code",
   "execution_count": 13,
   "metadata": {},
   "outputs": [],
   "source": [
    "parents2 = greate_fitness_scores(data, initial_pop)"
   ]
  },
  {
   "cell_type": "code",
   "execution_count": 14,
   "metadata": {},
   "outputs": [
    {
     "data": {
      "text/plain": [
       "[(0.2121887583141375, 0),\n",
       " (0.11436765934096178, 1),\n",
       " (0.2007598989460437, 2),\n",
       " (0.12898028947778298, 3),\n",
       " (0.08107661106604484, 4),\n",
       " (0.14293281803094057, 5),\n",
       " (0.13668209566080874, 6),\n",
       " (0.06740839831511619, 7),\n",
       " (0.1908755061762512, 8),\n",
       " (0.14844357859689838, 9),\n",
       " (0.13746348797219018, 10),\n",
       " (0.20202522613236035, 11),\n",
       " (0.19741685973791187, 12),\n",
       " (0.13882715559530212, 13),\n",
       " (0.14806707793272061, 14),\n",
       " (0.13543255657502137, 15),\n",
       " (0.06535580274384307, 16),\n",
       " (0.20426643707765943, 17),\n",
       " (0.1289056752303825, 18),\n",
       " (0.20330477515890233, 19)]"
      ]
     },
     "execution_count": 14,
     "metadata": {},
     "output_type": "execute_result"
    }
   ],
   "source": [
    "parents2"
   ]
  },
  {
   "cell_type": "code",
   "execution_count": 15,
   "metadata": {},
   "outputs": [],
   "source": [
    "parents_sum = sum([fitness for fitness, i in parents2])"
   ]
  },
  {
   "cell_type": "code",
   "execution_count": 16,
   "metadata": {},
   "outputs": [
    {
     "data": {
      "text/plain": [
       "2.98478066808128"
      ]
     },
     "execution_count": 16,
     "metadata": {},
     "output_type": "execute_result"
    }
   ],
   "source": [
    "parents_sum"
   ]
  },
  {
   "cell_type": "code",
   "execution_count": 29,
   "metadata": {},
   "outputs": [],
   "source": [
    "a = np.array([ 1, 0, 0, 0, 0, 0, 0, 0])"
   ]
  },
  {
   "cell_type": "code",
   "execution_count": 30,
   "metadata": {},
   "outputs": [
    {
     "data": {
      "text/plain": [
       "128"
      ]
     },
     "execution_count": 30,
     "metadata": {},
     "output_type": "execute_result"
    }
   ],
   "source": [
    "a_int = int(''.join(map(str, a)), 2)\n",
    "a_int"
   ]
  },
  {
   "cell_type": "code",
   "execution_count": 31,
   "metadata": {},
   "outputs": [
    {
     "data": {
      "text/plain": [
       "64.0"
      ]
     },
     "execution_count": 31,
     "metadata": {},
     "output_type": "execute_result"
    }
   ],
   "source": [
    "a_scaled = a_int * (128 / 2**len(a))\n",
    "a_scaled"
   ]
  },
  {
   "cell_type": "code",
   "execution_count": 32,
   "metadata": {},
   "outputs": [
    {
     "data": {
      "text/plain": [
       "0.9200260381967906"
      ]
     },
     "execution_count": 32,
     "metadata": {},
     "output_type": "execute_result"
    }
   ],
   "source": [
    "np.sin(a_scaled)"
   ]
  },
  {
   "cell_type": "code",
   "execution_count": 21,
   "metadata": {},
   "outputs": [
    {
     "data": {
      "text/plain": [
       "array([[0, 1, 0, ..., 1, 1, 0],\n",
       "       [1, 1, 0, ..., 0, 0, 0],\n",
       "       [1, 0, 1, ..., 1, 1, 0],\n",
       "       ...,\n",
       "       [1, 1, 1, ..., 1, 1, 0],\n",
       "       [0, 0, 0, ..., 1, 1, 1],\n",
       "       [1, 0, 0, ..., 1, 1, 0]])"
      ]
     },
     "execution_count": 21,
     "metadata": {},
     "output_type": "execute_result"
    }
   ],
   "source": [
    "initial_pop"
   ]
  },
  {
   "cell_type": "code",
   "execution_count": 22,
   "metadata": {},
   "outputs": [
    {
     "data": {
      "text/plain": [
       "array([-0.70755766,  0.06447822, -0.63437175,  0.974942  , -0.4817675 ,\n",
       "        0.99999284, -0.56262089, -0.27605425, -0.99983207, -0.00271308,\n",
       "       -0.98503992,  0.92008323,  0.98754703, -0.77442813,  0.48679361,\n",
       "       -0.18356465, -0.67134659, -0.23603311,  0.96521266,  0.11116076])"
      ]
     },
     "execution_count": 22,
     "metadata": {},
     "output_type": "execute_result"
    }
   ],
   "source": [
    "def greate_fitness_scores(population):\n",
    "    fitness_scores = []\n",
    "    for i in range(population.shape[0]):\n",
    "        int_value = int(''.join(map(str, population[i])), 2)\n",
    "        scaled_value = int_value * (128 / 2**population.shape[1])\n",
    "\n",
    "        fitness = np.sin(scaled_value)\n",
    "        fitness_scores.append(fitness)\n",
    "    return np.array(fitness_scores)\n",
    "\n",
    "greate_fitness_scores(initial_pop)"
   ]
  },
  {
   "cell_type": "code",
   "execution_count": 23,
   "metadata": {},
   "outputs": [
    {
     "data": {
      "text/plain": [
       "array([[0, 1, 0, 0, 1, 1, 1, 0, 1, 1, 0, 1, 1, 0, 1, 1, 0, 0, 0, 1, 0, 1,\n",
       "        0, 0, 0, 0, 1, 1, 0, 1, 0, 0, 1, 1, 0, 0, 0, 0, 0, 0, 1, 1, 1, 0,\n",
       "        1, 0, 0, 1, 0, 0, 1, 1, 1, 1, 1, 1, 0, 1, 0, 0, 0, 0, 1, 0, 1, 0,\n",
       "        1, 1, 1, 0, 0, 1, 0, 1, 1, 1, 0, 0, 0, 1, 0, 0, 1, 1, 1, 1, 0, 0,\n",
       "        0, 0, 0, 1, 0, 0, 0, 1, 0, 1, 1, 1, 1, 0],\n",
       "       [0, 0, 1, 0, 1, 0, 0, 0, 1, 1, 0, 1, 1, 0, 0, 1, 0, 0, 1, 0, 1, 0,\n",
       "        0, 0, 1, 0, 0, 1, 0, 0, 1, 0, 1, 1, 1, 1, 0, 1, 1, 0, 0, 0, 0, 0,\n",
       "        0, 0, 0, 0, 1, 1, 0, 0, 0, 1, 0, 0, 0, 1, 1, 0, 1, 1, 1, 0, 0, 1,\n",
       "        0, 1, 0, 0, 1, 0, 0, 0, 1, 1, 0, 1, 0, 0, 0, 0, 0, 0, 0, 0, 0, 1,\n",
       "        0, 0, 0, 0, 0, 1, 0, 1, 1, 1, 1, 1, 1, 1]])"
      ]
     },
     "execution_count": 23,
     "metadata": {},
     "output_type": "execute_result"
    }
   ],
   "source": [
    "def select_best_two(population):\n",
    "    fitness_scores = greate_fitness_scores(population)\n",
    "    best_two = np.argsort(fitness_scores)[-2:]\n",
    "    return population[best_two]\n",
    "\n",
    "select_best_two(initial_pop)"
   ]
  },
  {
   "cell_type": "code",
   "execution_count": null,
   "metadata": {},
   "outputs": [],
   "source": []
  }
 ],
 "metadata": {
  "kernelspec": {
   "display_name": "Python 3",
   "language": "python",
   "name": "python3"
  },
  "language_info": {
   "codemirror_mode": {
    "name": "ipython",
    "version": 3
   },
   "file_extension": ".py",
   "mimetype": "text/x-python",
   "name": "python",
   "nbconvert_exporter": "python",
   "pygments_lexer": "ipython3",
   "version": "3.10.12"
  }
 },
 "nbformat": 4,
 "nbformat_minor": 2
}

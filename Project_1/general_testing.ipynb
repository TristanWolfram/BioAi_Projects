{
 "cells": [
  {
   "cell_type": "code",
   "execution_count": 1,
   "metadata": {},
   "outputs": [],
   "source": [
    "import numpy as np\n",
    "import pandas as pd\n",
    "import LinReg"
   ]
  },
  {
   "cell_type": "code",
   "execution_count": 8,
   "metadata": {},
   "outputs": [],
   "source": [
    "myRNG = np.random.default_rng()\n",
    "regressor = LinReg.LinReg()\n",
    "\n",
    "def generate_initial_population(population_size, num_features):\n",
    "    return myRNG.integers(0, 1, size=(population_size, num_features), endpoint=True)\n",
    "\n",
    "def greate_fitness_scores(data, population):\n",
    "    fitness_scores = []\n",
    "    for i in range(population.shape[0]):\n",
    "        X = regressor.get_columns(data.values, population[i])\n",
    "        fitness = regressor.get_fitness(X[:,:-1], X[:,-1])\n",
    "        fitness_scores.append((fitness, i))\n",
    "    return fitness_scores\n",
    "\n",
    "def parent_selection(data, population, num_parents):\n",
    "    fitness_scores = greate_fitness_scores(data, population)\n",
    "    fitness_scores.sort()\n",
    "    print(fitness_scores)\n",
    "    selected_parents = fitness_scores[:num_parents]\n",
    "    selected_parents = [population[i] for fitness, i in selected_parents]\n",
    "    return np.array(selected_parents)"
   ]
  },
  {
   "cell_type": "code",
   "execution_count": 9,
   "metadata": {},
   "outputs": [],
   "source": [
    "data = pd.read_csv('dataset.txt', header=None)\n",
    "num_features = data.shape[1] \n",
    "population_size = 20\n",
    "generation_number = 50\n",
    "crossover_rate = 0.8\n",
    "\n",
    "\n",
    "mutation_rate = 0.1"
   ]
  },
  {
   "cell_type": "code",
   "execution_count": 10,
   "metadata": {},
   "outputs": [
    {
     "data": {
      "text/plain": [
       "(20, 102)"
      ]
     },
     "execution_count": 10,
     "metadata": {},
     "output_type": "execute_result"
    }
   ],
   "source": [
    "initial_pop = generate_initial_population(population_size, num_features)\n",
    "initial_pop.shape"
   ]
  },
  {
   "cell_type": "code",
   "execution_count": 11,
   "metadata": {},
   "outputs": [
    {
     "data": {
      "text/plain": [
       "array([[0, 0, 1, ..., 1, 0, 1],\n",
       "       [1, 0, 0, ..., 0, 0, 1],\n",
       "       [0, 1, 0, ..., 0, 0, 0],\n",
       "       ...,\n",
       "       [1, 0, 0, ..., 1, 0, 0],\n",
       "       [0, 1, 0, ..., 0, 0, 0],\n",
       "       [0, 0, 1, ..., 1, 0, 0]])"
      ]
     },
     "execution_count": 11,
     "metadata": {},
     "output_type": "execute_result"
    }
   ],
   "source": [
    "initial_pop"
   ]
  },
  {
   "cell_type": "code",
   "execution_count": 12,
   "metadata": {},
   "outputs": [
    {
     "name": "stdout",
     "output_type": "stream",
     "text": [
      "[(0.05562730255525055, 18), (0.08166328678111548, 9), (0.1308189893856329, 14), (0.13366150481366854, 1), (0.13367908992860922, 16), (0.1345052941901006, 2), (0.13790782554108336, 6), (0.1439467504342155, 15), (0.1440091527112153, 11), (0.14474137737027332, 4), (0.14592699201804515, 7), (0.1468046523071723, 19), (0.1495140742443937, 0), (0.15150669664676342, 17), (0.15164866158708654, 5), (0.1529206347886814, 8), (0.18167125742338003, 13), (0.19961057294669432, 10), (0.2073918371069754, 3), (0.2251052764610915, 12)]\n"
     ]
    }
   ],
   "source": [
    "num_parents = 5\n",
    "parents = parent_selection(data, initial_pop, num_parents)"
   ]
  },
  {
   "cell_type": "code",
   "execution_count": 67,
   "metadata": {},
   "outputs": [
    {
     "data": {
      "text/plain": [
       "0.639004465702832"
      ]
     },
     "execution_count": 67,
     "metadata": {},
     "output_type": "execute_result"
    }
   ],
   "source": [
    "myRNG.random()"
   ]
  },
  {
   "cell_type": "code",
   "execution_count": 55,
   "metadata": {},
   "outputs": [
    {
     "data": {
      "text/plain": [
       "0.24976384198393664"
      ]
     },
     "execution_count": 55,
     "metadata": {},
     "output_type": "execute_result"
    }
   ],
   "source": [
    "np.random.rand()"
   ]
  },
  {
   "cell_type": "code",
   "execution_count": 68,
   "metadata": {},
   "outputs": [],
   "source": [
    "def mutate_gene(bit_string, mutation_rate):\n",
    "    for i in range(len(bit_string)):\n",
    "        if myRNG.random() < mutation_rate:\n",
    "            bit_string[i] = 1 - bit_string[i]\n",
    "\n",
    "    return bit_string"
   ]
  },
  {
   "cell_type": "code",
   "execution_count": 69,
   "metadata": {},
   "outputs": [],
   "source": [
    "def generate_offspring(parent1, parent2, crossover_rate):\n",
    "    if myRNG.random() < crossover_rate:\n",
    "        crossover_point = myRNG.integers(1, len(parent1))\n",
    "        print(crossover_point)\n",
    "        offspring1 = np.concatenate([parent1[:crossover_point], parent2[crossover_point:]])\n",
    "        offspring2 = np.concatenate([parent2[:crossover_point], parent1[crossover_point:]])\n",
    "        return offspring1, offspring2\n",
    "    else:\n",
    "        return parent1, parent2"
   ]
  },
  {
   "cell_type": "code",
   "execution_count": 77,
   "metadata": {},
   "outputs": [
    {
     "data": {
      "text/plain": [
       "(array([1, 1, 0, 0, 0]), array([1, 0, 1, 0, 1]))"
      ]
     },
     "execution_count": 77,
     "metadata": {},
     "output_type": "execute_result"
    }
   ],
   "source": [
    "a = np.array([1, 1, 0, 0, 0])\n",
    "b = np.array([1, 0, 1, 0, 1])\n",
    "\n",
    "generate_offspring(a, b, 0.8)"
   ]
  },
  {
   "cell_type": "code",
   "execution_count": 81,
   "metadata": {},
   "outputs": [],
   "source": [
    "parents2 = greate_fitness_scores(data, initial_pop)"
   ]
  },
  {
   "cell_type": "code",
   "execution_count": 82,
   "metadata": {},
   "outputs": [
    {
     "data": {
      "text/plain": [
       "[(0.13916197840867608, 0),\n",
       " (0.13961722965712278, 1),\n",
       " (0.12424278705562884, 2),\n",
       " (0.196492911766902, 3),\n",
       " (0.15148787731562063, 4),\n",
       " (0.1571215543540359, 5),\n",
       " (0.15223403498316432, 6),\n",
       " (0.149961369601388, 7),\n",
       " (0.14835518904992395, 8),\n",
       " (0.08654749472096365, 9),\n",
       " (0.22581433065211662, 10),\n",
       " (0.13458675136741066, 11),\n",
       " (0.20288240678758157, 12),\n",
       " (0.19094382084593467, 13),\n",
       " (0.13420468181052375, 14),\n",
       " (0.15032860193012576, 15),\n",
       " (0.1430218223894735, 16),\n",
       " (0.15465263998700507, 17),\n",
       " (0.06707544421257318, 18),\n",
       " (0.1452245403878064, 19)]"
      ]
     },
     "execution_count": 82,
     "metadata": {},
     "output_type": "execute_result"
    }
   ],
   "source": [
    "parents2"
   ]
  },
  {
   "cell_type": "code",
   "execution_count": 84,
   "metadata": {},
   "outputs": [],
   "source": [
    "parents_sum = sum([fitness for fitness, i in parents2])"
   ]
  },
  {
   "cell_type": "code",
   "execution_count": 85,
   "metadata": {},
   "outputs": [
    {
     "data": {
      "text/plain": [
       "2.9939574672839773"
      ]
     },
     "execution_count": 85,
     "metadata": {},
     "output_type": "execute_result"
    }
   ],
   "source": [
    "parents_sum"
   ]
  },
  {
   "cell_type": "code",
   "execution_count": null,
   "metadata": {},
   "outputs": [],
   "source": []
  }
 ],
 "metadata": {
  "kernelspec": {
   "display_name": "Python 3",
   "language": "python",
   "name": "python3"
  },
  "language_info": {
   "codemirror_mode": {
    "name": "ipython",
    "version": 3
   },
   "file_extension": ".py",
   "mimetype": "text/x-python",
   "name": "python",
   "nbconvert_exporter": "python",
   "pygments_lexer": "ipython3",
   "version": "3.10.12"
  }
 },
 "nbformat": 4,
 "nbformat_minor": 2
}
